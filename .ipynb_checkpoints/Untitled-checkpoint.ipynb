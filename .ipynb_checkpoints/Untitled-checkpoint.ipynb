{
 "cells": [
  {
   "cell_type": "markdown",
   "metadata": {},
   "source": [
    "# Market News Realtime Custom Notifier"
   ]
  },
  {
   "cell_type": "markdown",
   "metadata": {},
   "source": [
    "The purpose of the project is to develop a POC application in order to assess the feasibility of developing a tool which notifies the user when a certain makert news comes up on the air.\n",
    "\n",
    "In order to do this a scraper will be built. Such scraper will be constantly querying the realtime news page of MarketWatch website, scraping the new entries added since the last run and checking for the trigger keywords that the user wants to keep a tab on, e.g. \"oil\", \"surge\", \"drops\". Additionally it would be good if the user could also select to notify him/her when the headline contains a percentage bigger than 5% for example, in conjunction with the previous words. This would allow to identify when a specific stock, commodity or currency drops or surges below or above a certain percentage.\n",
    "\n",
    "Also, as a last development, not included in the scope of this POC application, but which could be usefull for a real live application if the conclusions of this experiment turn out to be positive is to include a search engine which uses machine learning system, specifically semantic search. This would allow the user not only to select from a predetermined set of words like \"drop\", \"surge\", \"unstable\", etc. but to write in his/her own words what he or she wants to get notified for. And the semantic search would have the ability to retrieve headlines which agree in meaning with this search without the need to keep a huge dictionary synonym table.  "
   ]
  },
  {
   "cell_type": "markdown",
   "metadata": {},
   "source": [
    "#### Notifier Function"
   ]
  },
  {
   "cell_type": "markdown",
   "metadata": {},
   "source": [
    "Function used to create desktop notification on OSX system."
   ]
  },
  {
   "cell_type": "code",
   "execution_count": 1,
   "metadata": {
    "collapsed": true
   },
   "outputs": [],
   "source": [
    "# Import Module\n",
    "import os\n",
    "\n",
    "# The notifier function\n",
    "def notify(title, subtitle, message):\n",
    "    t = '-title {!r}'.format(title)\n",
    "    s = '-subtitle {!r}'.format(subtitle)\n",
    "    m = '-message {!r}'.format(message)\n",
    "    os.system('terminal-notifier {}'.format(' '.join([m, t, s])))"
   ]
  },
  {
   "cell_type": "markdown",
   "metadata": {},
   "source": [
    "#### Create Database"
   ]
  },
  {
   "cell_type": "markdown",
   "metadata": {},
   "source": [
    "1. Creates the database to store the information of news headlines that have been relevant to the user.\n",
    "2. Creates the database to store the news obtained by the last run of the scraper so the monitor can process them. "
   ]
  },
  {
   "cell_type": "markdown",
   "metadata": {},
   "source": [
    "#### Scraper Function"
   ]
  },
  {
   "cell_type": "markdown",
   "metadata": {},
   "source": [
    "Scrapes the MarketWatch realtime news page in search of live market news with the search parameters."
   ]
  },
  {
   "cell_type": "markdown",
   "metadata": {},
   "source": [
    "#### Activity Monitor"
   ]
  },
  {
   "cell_type": "markdown",
   "metadata": {},
   "source": [
    "1. Monitors the newly scraped market news and notifies the user if it must. \n",
    "2. Stores the headlines of the notified news, that is, the news that matched the user search parameters.\n",
    "3. Removes from the database 2. the news that have already been checked against the user search parameters."
   ]
  }
 ],
 "metadata": {
  "kernelspec": {
   "display_name": "Python 3",
   "language": "python",
   "name": "python3"
  },
  "language_info": {
   "codemirror_mode": {
    "name": "ipython",
    "version": 3
   },
   "file_extension": ".py",
   "mimetype": "text/x-python",
   "name": "python",
   "nbconvert_exporter": "python",
   "pygments_lexer": "ipython3",
   "version": "3.5.2"
  }
 },
 "nbformat": 4,
 "nbformat_minor": 2
}
