{
 "cells": [
  {
   "cell_type": "markdown",
   "metadata": {},
   "source": [
    "# Market News Realtime Custom Notifier"
   ]
  },
  {
   "cell_type": "markdown",
   "metadata": {},
   "source": [
    "The purpose of the project is to develop a POC application in order to assess the feasibility of developing a tool which notifies the user when a certain makert news comes up on the air.\n",
    "\n",
    "In order to do this a scraper will be built. Such scraper will be constantly querying the realtime news page of MarketWatch website, scraping the new entries added since the last run and checking for the trigger keywords that the user wants to keep a tab on, e.g. \"oil\", \"surge\", \"drops\". Additionally it would be good if the user could also select to notify him/her when the headline contains a percentage bigger than 5% for example, in conjunction with the previous words. This would allow to identify when a specific stock, commodity or currency drops or surges below or above a certain percentage.\n",
    "\n",
    "Also, as a last development, not included in the scope of this POC application, but which could be usefull for a real live application if the conclusions of this experiment turn out to be positive is to include a search engine which uses machine learning system, specifically semantic search. This would allow the user not only to select from a predetermined set of words like \"drop\", \"surge\", \"unstable\", etc. but to write in his/her own words what he or she wants to get notified for. And the semantic search would have the ability to retrieve headlines which agree in meaning with this search without the need to keep a huge dictionary synonym table.  "
   ]
  },
  {
   "cell_type": "markdown",
   "metadata": {},
   "source": [
    "#### Notifier Function"
   ]
  },
  {
   "cell_type": "markdown",
   "metadata": {},
   "source": [
    "Function used to create desktop notification on OSX system."
   ]
  },
  {
   "cell_type": "code",
   "execution_count": 3,
   "metadata": {
    "collapsed": true
   },
   "outputs": [],
   "source": [
    "# Import module\n",
    "import os\n",
    "\n",
    "# The notifier function\n",
    "def notify(title, subtitle, message):\n",
    "    t = '-title {!r}'.format(title)\n",
    "    s = '-subtitle {!r}'.format(subtitle)\n",
    "    m = '-message {!r}'.format(message)\n",
    "    os.system('terminal-notifier {}'.format(' '.join([m, t, s])))"
   ]
  },
  {
   "cell_type": "markdown",
   "metadata": {},
   "source": [
    "#### Create Database"
   ]
  },
  {
   "cell_type": "markdown",
   "metadata": {},
   "source": [
    "1. Creates the database table to store the information of news headlines that have been relevant to the user.\n",
    "2. Creates the database table to store the news obtained by the last run of the scraper so the monitor can process them. "
   ]
  },
  {
   "cell_type": "code",
   "execution_count": 4,
   "metadata": {
    "collapsed": true
   },
   "outputs": [],
   "source": [
    "# Import module\n",
    "import sqlite3\n",
    "\n",
    "# This function creates a database instance which consists of 2 tables.\n",
    "# First table is user_headlines which consists of headlines that have matched the user match criteria\n",
    "# Second table are the realtime_headlines which consists of headlines that are yet to be matched angainst the user criteria\n",
    "def create_database():\n",
    "    print(\"started creating database...\")\n",
    "    # Connect to \"teeview_analytics\" database\n",
    "    conn = sqlite3.connect('market_news_watcher.db')\n",
    "    # Create \"campaigns\" table if it does not exist\n",
    "    user_headlines_table = conn.execute(\"SELECT headline FROM sqlite_master WHERE type='table' AND name='user_headlines'\").fetchall()\n",
    "    if len(user_headlines_table) == 0: conn.execute(\"create table user_headlines(headline)\")\n",
    "    # Create \"sales_data\" table if it does not exist\n",
    "    realtime_headlines_table = conn.execute(\"SELECT headline FROM sqlite_master WHERE type='table' AND name='realtime_headlines'\").fetchall()\n",
    "    if len(realtime_headlines_table) == 0: conn.execute(\"create table realtime_headlines(headline)\")\n",
    "    # Close connection\n",
    "    conn.close()\n",
    "    print(\"finished creating database!\")"
   ]
  },
  {
   "cell_type": "markdown",
   "metadata": {},
   "source": [
    "#### Scraper Function"
   ]
  },
  {
   "cell_type": "markdown",
   "metadata": {},
   "source": [
    "Scrapes the MarketWatch realtime news page in search of live market news with the search parameters.\n",
    "\n",
    "The scraper will feed from live Twitter pages reporting news on market stock prices, currency rates and comodities.\n",
    "\n",
    "1. Currency rates:\n",
    "    - @ForexLive: https://twitter.com/ForexLive\n",
    "    - @currencynews: https://twitter.com/currencynews\n",
    "    - @FXstreetNews: https://twitter.com/fxstreetnews\n",
    "2. Market news:\n",
    "    - @MarketCurrents: https://twitter.com/marketcurrents?lang=en\n",
    "    - @WSJmarkets: https://twitter.com/wsjmarkets?lang=en\n",
    "    - @markets: https://twitter.com/markets"
   ]
  },
  {
   "cell_type": "code",
   "execution_count": 58,
   "metadata": {
    "collapsed": true
   },
   "outputs": [],
   "source": [
    "# Import modules\n",
    "import requests\n",
    "from bs4 import BeautifulSoup\n",
    "\n",
    "# This function scrapes the realtime market news headlines from MarketWatch\n",
    "def scrape_headlines():\n",
    "    url = \"https://twitter.com/marketcurrents?lang=en\"\n",
    "    response = requests.get(url)\n",
    "    html = BeautifulSoup(response.text, \"html.parser\")\n",
    "    tweets = html.select(\"p.TweetTextSize.TweetTextSize--jumbo.js-tweet-text.tweet-text\")\n",
    "    print(len(tweets))\n",
    "    for tweet in tweets:\n",
    "        tweet_str = '{0}'.format(tweet)\n",
    "        tweet_ary = tweet_str.split('<a class=\"twitter-timeline-link\" data-expanded-url=\"')\n",
    "        tweet_text = tweet_ary[0].replace('<p class=\"TweetTextSize TweetTextSize--jumbo js-tweet-text tweet-text\" data-aria-label-part=\"0\" lang=\"en\">', '')\n",
    "        tweet_url = tweet_ary[1].split('\"')[0]\n",
    "        print(\"{0} :::: {1}\".format(\"tweet\", tweet_text))\n",
    "        print(\"\\n\\n\")\n",
    "        print(\"{0} :::: {1}\".format(\"url\", tweet_url))\n",
    "        print(\"\\n\")\n",
    "        print(tweet)\n",
    "        print(\"\\n\\n\\n\\n\")"
   ]
  },
  {
   "cell_type": "markdown",
   "metadata": {},
   "source": [
    "** NOTES - CORRECTIONS TO BE APPLIED **\n",
    "\n",
    "This approach is not useful. Request does not download all the Tweets nor is it even close to realtime. Need to use the Twitter API which for Python is called Tweetpy, in particular I need to dig into the Streaming API: http://docs.tweepy.org/en/v3.5.0/streaming_how_to.html#a-few-more-pointers.\n",
    "\n",
    "Also should use a package for text recognition, no need to write the functions myself. Also pretty much a difficult task to include all the variations, pluralizations, translations, spelling corrections needed to build a decent piece of software. Textblob is the tech of choice: http://textblob.readthedocs.io/en/dev/quickstart.html#get-word-and-noun-phrase-frequencies\n",
    "\n",
    "Still left to decide: If after doing all this the program works fairly well without the need to use machine learning, only simple tokenization and frecuency counter with spelling correction and perhaps some translation included to also feed from the main media in any major country. If it works. Where will this Python script be running continuously? What about the database? Ok, but that is a task for another day\n",
    "\n",
    "** END OF NOTES **"
   ]
  },
  {
   "cell_type": "code",
   "execution_count": 59,
   "metadata": {
    "collapsed": false
   },
   "outputs": [
    {
     "name": "stdout",
     "output_type": "stream",
     "text": [
      "5\n",
      "tweet :::: L Brands leads S&amp;P as March results exceed investor fears \n",
      "\n",
      "\n",
      "\n",
      "url :::: https://seekingalpha.com/news/3256054-l-brands-leads-s-and-p-march-results-exceed-investor-fears?source=feed_f\n",
      "\n",
      "\n",
      "<p class=\"TweetTextSize TweetTextSize--jumbo js-tweet-text tweet-text\" data-aria-label-part=\"0\" lang=\"en\">L Brands leads S&amp;P as March results exceed investor fears <a class=\"twitter-timeline-link\" data-expanded-url=\"https://seekingalpha.com/news/3256054-l-brands-leads-s-and-p-march-results-exceed-investor-fears?source=feed_f\" dir=\"ltr\" href=\"https://t.co/zDRAgGruok\" rel=\"nofollow noopener\" target=\"_blank\" title=\"https://seekingalpha.com/news/3256054-l-brands-leads-s-and-p-march-results-exceed-investor-fears?source=feed_f\"><span class=\"tco-ellipsis\"></span><span class=\"invisible\">https://</span><span class=\"js-display-url\">seekingalpha.com/news/3256054-l</span><span class=\"invisible\">-brands-leads-s-and-p-march-results-exceed-investor-fears?source=feed_f</span><span class=\"tco-ellipsis\"><span class=\"invisible\"> </span>…</span></a> <a class=\"twitter-cashtag pretty-link js-nav\" data-query-source=\"cashtag_click\" dir=\"ltr\" href=\"/search?q=%24LB&amp;src=ctag\"><s>$</s><b>LB</b></a> <a class=\"twitter-cashtag pretty-link js-nav\" data-query-source=\"cashtag_click\" dir=\"ltr\" href=\"/search?q=%24JWN&amp;src=ctag\"><s>$</s><b>JWN</b></a> <a class=\"twitter-cashtag pretty-link js-nav\" data-query-source=\"cashtag_click\" dir=\"ltr\" href=\"/search?q=%24GPS&amp;src=ctag\"><s>$</s><b>GPS</b></a> <a class=\"twitter-cashtag pretty-link js-nav\" data-query-source=\"cashtag_click\" dir=\"ltr\" href=\"/search?q=%24KSS&amp;src=ctag\"><s>$</s><b>KSS</b></a></p>\n",
      "\n",
      "\n",
      "\n",
      "\n",
      "\n",
      "tweet :::: NeoPhotonics -6.3%; CFO to exit in May \n",
      "\n",
      "\n",
      "\n",
      "url :::: https://seekingalpha.com/news/3256052-neophotonics-minus-6_3-percent-cfo-exit-may?source=feed_f\n",
      "\n",
      "\n",
      "<p class=\"TweetTextSize TweetTextSize--jumbo js-tweet-text tweet-text\" data-aria-label-part=\"0\" lang=\"en\">NeoPhotonics -6.3%; CFO to exit in May <a class=\"twitter-timeline-link\" data-expanded-url=\"https://seekingalpha.com/news/3256052-neophotonics-minus-6_3-percent-cfo-exit-may?source=feed_f\" dir=\"ltr\" href=\"https://t.co/NC7IwQEMXk\" rel=\"nofollow noopener\" target=\"_blank\" title=\"https://seekingalpha.com/news/3256052-neophotonics-minus-6_3-percent-cfo-exit-may?source=feed_f\"><span class=\"tco-ellipsis\"></span><span class=\"invisible\">https://</span><span class=\"js-display-url\">seekingalpha.com/news/3256052-n</span><span class=\"invisible\">eophotonics-minus-6_3-percent-cfo-exit-may?source=feed_f</span><span class=\"tco-ellipsis\"><span class=\"invisible\"> </span>…</span></a> <a class=\"twitter-cashtag pretty-link js-nav\" data-query-source=\"cashtag_click\" dir=\"ltr\" href=\"/search?q=%24NPTN&amp;src=ctag\"><s>$</s><b>NPTN</b></a></p>\n",
      "\n",
      "\n",
      "\n",
      "\n",
      "\n",
      "tweet :::: Buying opportunities in Canadian miners prompt Raymond James upgrades \n",
      "\n",
      "\n",
      "\n",
      "url :::: https://seekingalpha.com/news/3256051-buying-opportunities-canadian-miners-prompt-raymond-james-upgrades?source=feed_f\n",
      "\n",
      "\n",
      "<p class=\"TweetTextSize TweetTextSize--jumbo js-tweet-text tweet-text\" data-aria-label-part=\"0\" lang=\"en\">Buying opportunities in Canadian miners prompt Raymond James upgrades <a class=\"twitter-timeline-link\" data-expanded-url=\"https://seekingalpha.com/news/3256051-buying-opportunities-canadian-miners-prompt-raymond-james-upgrades?source=feed_f\" dir=\"ltr\" href=\"https://t.co/n8k4cwWyXg\" rel=\"nofollow noopener\" target=\"_blank\" title=\"https://seekingalpha.com/news/3256051-buying-opportunities-canadian-miners-prompt-raymond-james-upgrades?source=feed_f\"><span class=\"tco-ellipsis\"></span><span class=\"invisible\">https://</span><span class=\"js-display-url\">seekingalpha.com/news/3256051-b</span><span class=\"invisible\">uying-opportunities-canadian-miners-prompt-raymond-james-upgrades?source=feed_f</span><span class=\"tco-ellipsis\"><span class=\"invisible\"> </span>…</span></a> <a class=\"twitter-cashtag pretty-link js-nav\" data-query-source=\"cashtag_click\" dir=\"ltr\" href=\"/search?q=%24AG&amp;src=ctag\"><s>$</s><b>AG</b></a> <a class=\"twitter-cashtag pretty-link js-nav\" data-query-source=\"cashtag_click\" dir=\"ltr\" href=\"/search?q=%24EXK&amp;src=ctag\"><s>$</s><b>EXK</b></a> <a class=\"twitter-cashtag pretty-link js-nav\" data-query-source=\"cashtag_click\" dir=\"ltr\" href=\"/search?q=%24SVMLF&amp;src=ctag\"><s>$</s><b>SVMLF</b></a> <a class=\"twitter-cashtag pretty-link js-nav\" data-query-source=\"cashtag_click\" dir=\"ltr\" href=\"/search?q=%24TAHO&amp;src=ctag\"><s>$</s><b>TAHO</b></a></p>\n",
      "\n",
      "\n",
      "\n",
      "\n",
      "\n",
      "tweet :::: Airbus reports pickup in orders for A320 jet \n",
      "\n",
      "\n",
      "\n",
      "url :::: https://seekingalpha.com/news/3256049-airbus-reports-pickup-orders-a320-jet?source=feed_f\n",
      "\n",
      "\n",
      "<p class=\"TweetTextSize TweetTextSize--jumbo js-tweet-text tweet-text\" data-aria-label-part=\"0\" lang=\"en\">Airbus reports pickup in orders for A320 jet <a class=\"twitter-timeline-link\" data-expanded-url=\"https://seekingalpha.com/news/3256049-airbus-reports-pickup-orders-a320-jet?source=feed_f\" dir=\"ltr\" href=\"https://t.co/qSgZbEHatp\" rel=\"nofollow noopener\" target=\"_blank\" title=\"https://seekingalpha.com/news/3256049-airbus-reports-pickup-orders-a320-jet?source=feed_f\"><span class=\"tco-ellipsis\"></span><span class=\"invisible\">https://</span><span class=\"js-display-url\">seekingalpha.com/news/3256049-a</span><span class=\"invisible\">irbus-reports-pickup-orders-a320-jet?source=feed_f</span><span class=\"tco-ellipsis\"><span class=\"invisible\"> </span>…</span></a> <a class=\"twitter-cashtag pretty-link js-nav\" data-query-source=\"cashtag_click\" dir=\"ltr\" href=\"/search?q=%24EADSF&amp;src=ctag\"><s>$</s><b>EADSF</b></a> <a class=\"twitter-cashtag pretty-link js-nav\" data-query-source=\"cashtag_click\" dir=\"ltr\" href=\"/search?q=%24EADSY&amp;src=ctag\"><s>$</s><b>EADSY</b></a> <a class=\"twitter-cashtag pretty-link js-nav\" data-query-source=\"cashtag_click\" dir=\"ltr\" href=\"/search?q=%24BA&amp;src=ctag\"><s>$</s><b>BA</b></a></p>\n",
      "\n",
      "\n",
      "\n",
      "\n",
      "\n",
      "tweet :::: C&amp;J Energy to launch 7M-share offering \n",
      "\n",
      "\n",
      "\n",
      "url :::: https://seekingalpha.com/news/3256044-c-and-j-energy-launch-7m-share-offering?source=feed_f\n",
      "\n",
      "\n",
      "<p class=\"TweetTextSize TweetTextSize--jumbo js-tweet-text tweet-text\" data-aria-label-part=\"0\" lang=\"en\">C&amp;J Energy to launch 7M-share offering <a class=\"twitter-timeline-link\" data-expanded-url=\"https://seekingalpha.com/news/3256044-c-and-j-energy-launch-7m-share-offering?source=feed_f\" dir=\"ltr\" href=\"https://t.co/ESTK4Kv3EK\" rel=\"nofollow noopener\" target=\"_blank\" title=\"https://seekingalpha.com/news/3256044-c-and-j-energy-launch-7m-share-offering?source=feed_f\"><span class=\"tco-ellipsis\"></span><span class=\"invisible\">https://</span><span class=\"js-display-url\">seekingalpha.com/news/3256044-c</span><span class=\"invisible\">-and-j-energy-launch-7m-share-offering?source=feed_f</span><span class=\"tco-ellipsis\"><span class=\"invisible\"> </span>…</span></a> <a class=\"twitter-cashtag pretty-link js-nav\" data-query-source=\"cashtag_click\" dir=\"ltr\" href=\"/search?q=%24CJ&amp;src=ctag\"><s>$</s><b>CJ</b></a></p>\n",
      "\n",
      "\n",
      "\n",
      "\n",
      "\n"
     ]
    }
   ],
   "source": [
    "scrape_headlines()"
   ]
  },
  {
   "cell_type": "markdown",
   "metadata": {},
   "source": [
    "#### Matcher Function"
   ]
  },
  {
   "cell_type": "markdown",
   "metadata": {},
   "source": [
    "1. Matches the newly scraped market news against the new headlines and notifies the user if it must. \n",
    "2. Stores the headlines of the notified news, that is, the news that matched the user search parameters.\n",
    "3. Removes from the database 2. the news that have already been checked against the user search parameters."
   ]
  }
 ],
 "metadata": {
  "kernelspec": {
   "display_name": "Python [py35]",
   "language": "python",
   "name": "Python [py35]"
  },
  "language_info": {
   "codemirror_mode": {
    "name": "ipython",
    "version": 3
   },
   "file_extension": ".py",
   "mimetype": "text/x-python",
   "name": "python",
   "nbconvert_exporter": "python",
   "pygments_lexer": "ipython3",
   "version": "3.5.2"
  }
 },
 "nbformat": 4,
 "nbformat_minor": 2
}
