{
 "cells": [
  {
   "cell_type": "markdown",
   "metadata": {},
   "source": [
    "# Market News Watcher - Twitter Stream Lag Time "
   ]
  },
  {
   "cell_type": "markdown",
   "metadata": {},
   "source": [
    "The purpose of the project is to assess the feasibility of constructing a tool which notifies the user when a certain makert news comes up on the air.\n",
    "\n",
    "The tool should do the following:\n",
    "\n",
    "1. It should listen to certain channels through their Twitter feeds. This list should be composed of major market news outlets, major market players, major currency news outlets.\n",
    "2. It should have a list of the user keywords he/she wants to keep an eye on, e.g. \"oil\", \"surge\", \"gold\", \"united airlines\", etc.\n",
    "3. It should pair (in real-time) the news that comes out with the list of keywords the user has tabs on. If there is a match it should then notify the user instantly.\n",
    "\n",
    "The purpose of this project is to check the lag between a tweet coming out on Twitter and it appearing on the programm."
   ]
  },
  {
   "cell_type": "markdown",
   "metadata": {},
   "source": [
    "** LEARNINGS **\n",
    "\n",
    "- First attempt was to scrape some twitter feeds using get requests periodically e.g. every second, this attempt failed miserably since it was not nearly real-time and additionally it did not scraped all tweets, it seemed to randomly scrape some, and miss some.\n",
    "- It was decided to use the Twitter stream API to check realtime capabilities as well as to increase the fidelity of information (that is, all tweets must be scraped). It worked. It is increadibly real-time. Sometimes it appears first on the programm that on Twitter.\n",
    "- The stream should follow users not keywords, the keyword part should be done on the server. This is so because the Twitter Stream API uses OR for the \"track\" and \"follow\" variables. So if one does track=\"oil,surge\" and follow=\"marketWatch\" it will get all tweets that have oil and surge keywords and also all tweets from marketWatch.\n",
    "\n",
    "** THINGS TO DO **\n",
    "\n",
    "- Now we need to select a few users to stream from. Let's initially select major news outlets, major market players, and major market news outlets. The user should be able to follow anyone he or she would like though in conjunction with the keywords that he/she will be tracking. This is a feature is not required for an MVP since it should look up the user_id on Twitter programatically.\n",
    "- When reaching the point at which we will be tracking keywords on the stream be aware that TextBlob (or the equivalent package on the language of choice) may result usefull in correcting spelling errors, taking into account synonyms, pluralizations and perhaps even translations if there are any major local outlets in a language different to the one the user speaks. To check out the TextBlob documentation go here: http://textblob.readthedocs.io/en/dev/quickstart.html#get-word-and-noun-phrase-frequencies"
   ]
  },
  {
   "cell_type": "markdown",
   "metadata": {},
   "source": [
    "#### Twitter Stream"
   ]
  },
  {
   "cell_type": "markdown",
   "metadata": {},
   "source": [
    "The following will be the list of news outlets, major market players and specialized market news twitter feeds the Stream will be following on.\n",
    "\n",
    "1. Currency rates:\n",
    "    - @ForexLive: https://twitter.com/ForexLive\n",
    "    - @currencynews: https://twitter.com/currencynews\n",
    "    - @FXstreetNews: https://twitter.com/fxstreetnews\n",
    "2. Market news:\n",
    "    - @MarketCurrents: https://twitter.com/marketcurrents (SeekingAlpha for Breaking News)\n",
    "    - @WSJmarkets: https://twitter.com/wsjmarkets\n",
    "    - @markets: https://twitter.com/markets (Bloomberg)\n",
    "    - @MarketWatch: https://twitter.com/MarketWatch\n",
    "    - @Reuters: https://twitter.com/Reuters\n",
    "    - @YahooFinance: https://twitter.com/YahooFinance"
   ]
  },
  {
   "cell_type": "code",
   "execution_count": 3,
   "metadata": {
    "collapsed": true
   },
   "outputs": [],
   "source": [
    "# Follow list of twitter user ids and user handles\n",
    "user_ids = []\n",
    "user_handles = []\n",
    "# Twitter user ids\n",
    "twitter_ids = {\n",
    "    \"MarketCurrents\": \"15296897\",\n",
    "    \"WSJmarkets\": \"28164923\",\n",
    "    \"markets\" : \"69620713\",\n",
    "    \"MarketWatch\" : \"624413\",\n",
    "    \"Reuters\" : \"1652541\",\n",
    "    \"YahooFinance\" : \"19546277\",\n",
    "    \"ForexLive\" : \"19399038\",\n",
    "    \"currencynews\" : \"24349486\",\n",
    "    \"FXstreetNews\" : \"27652717\"\n",
    "}\n",
    "# Populate follow list\n",
    "for user_handle, user_id in twitter_ids.items():\n",
    "    user_ids.append(user_id)\n",
    "    user_handles.append(user_handle.lower())"
   ]
  },
  {
   "cell_type": "code",
   "execution_count": 4,
   "metadata": {
    "collapsed": true
   },
   "outputs": [],
   "source": [
    "# Import module\n",
    "import tweepy\n",
    "\n",
    "# This should be stored as enviroment variables\n",
    "consumer_key = '1m06oM795BE0EuynpeLWbRNCO'\n",
    "consumer_secret = 'WMnnyzPQwLmDowvTjLGLperW0XmJVyaeOoWQXmLwjAjyyB40yW'\n",
    "access_token = '805435652707876864-ybtcv2DHVl740HYcMHjElAHnCQOsX2l'\n",
    "access_token_secret = 'S9zNQUkXlrGGnYoxTgt0bcXpJQXxyv9eroiKPgONLXKU7'"
   ]
  },
  {
   "cell_type": "code",
   "execution_count": 8,
   "metadata": {
    "collapsed": false
   },
   "outputs": [],
   "source": [
    "# Authenticate application\n",
    "auth = tweepy.OAuthHandler(consumer_key, consumer_secret)\n",
    "auth.set_access_token(access_token, access_token_secret)\n",
    "\n",
    "api = tweepy.API(auth)"
   ]
  },
  {
   "cell_type": "code",
   "execution_count": null,
   "metadata": {
    "collapsed": false
   },
   "outputs": [
    {
     "name": "stdout",
     "output_type": "stream",
     "text": [
      "MarketCurrents: North Atlantic Drilling +380% in two days following rig deals https://t.co/CxDA8EyjNX $NADL $SDRL\n"
     ]
    }
   ],
   "source": [
    "#Override tweepy.StreamListener to add logic to on_status\n",
    "class MyStreamListener(tweepy.StreamListener):\n",
    "\n",
    "    def on_status(self, tweet):\n",
    "        if tweet.user.screen_name.lower() in user_handles:\n",
    "            if not tweet.text.startswith('RT ') and tweet.in_reply_to_screen_name is None:\n",
    "                print('{0}: {1}'.format(tweet.user.screen_name, tweet.text))\n",
    "                \n",
    "\n",
    "# Create stream listener\n",
    "myStreamListener = MyStreamListener()\n",
    "myStream = tweepy.Stream(auth=api.auth, listener=myStreamListener)\n",
    "\n",
    "# Start steam (sync)\n",
    "myStream.filter(follow=user_ids)"
   ]
  }
 ],
 "metadata": {
  "anaconda-cloud": {},
  "kernelspec": {
   "display_name": "Python [py35]",
   "language": "python",
   "name": "Python [py35]"
  },
  "language_info": {
   "codemirror_mode": {
    "name": "ipython",
    "version": 3
   },
   "file_extension": ".py",
   "mimetype": "text/x-python",
   "name": "python",
   "nbconvert_exporter": "python",
   "pygments_lexer": "ipython3",
   "version": "3.5.2"
  }
 },
 "nbformat": 4,
 "nbformat_minor": 2
}
